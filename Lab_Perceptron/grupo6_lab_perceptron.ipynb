{
  "cells": [
    {
      "cell_type": "markdown",
      "metadata": {
        "id": "reYDmt-F7gkw"
      },
      "source": [
        "# Perceptron simple\n",
        "\n",
        "\n"
      ]
    },
    {
      "cell_type": "code",
      "execution_count": null,
      "metadata": {
        "id": "uNauKEQO5Pdp"
      },
      "outputs": [],
      "source": [
        "import numpy as np \n",
        "import matplotlib.pyplot as plt\n",
        "import pandas as pd \n",
        "import random\n",
        "from mpl_toolkits.mplot3d import axes3d\n",
        "from google.colab import files\n",
        "pd.set_option('display.max_columns', 500)"
      ]
    },
    {
      "cell_type": "markdown",
      "metadata": {
        "id": "a0bfDIBy7VPU"
      },
      "source": [
        "# Definición de la clase perceptron \n",
        "\n"
      ]
    },
    {
      "cell_type": "code",
      "execution_count": null,
      "metadata": {
        "id": "AMCVlwNe5Zeo"
      },
      "outputs": [],
      "source": [
        "class Perceptron:\n",
        "    def __init__(self, eta=0.1, n_iter=100):      #O(1)\n",
        "        self.eta = float(eta)     #O(1)\n",
        "        self.n_iter = n_iter      #O(1)\n",
        "\n",
        "    def train(self, X, y):      #O(n^2)\n",
        "        # inicializar los pesos en 0\n",
        "        self.w = np.zeros(len(X[1])+1)    #O(1)\n",
        "\n",
        "        #vector de errores acumulados\n",
        "        self.errors = []                  #O(1)\n",
        "\n",
        "        #ciclo de entrenamiento\n",
        "        for i in range(self.n_iter):      #O(n^2)\n",
        "            errors = 0\n",
        "            for x_i, target in zip(X,y):     #O(n)\n",
        "                #calcular el nuevo valor de los pesos\n",
        "                delta_w = np.array((target - self.predict(x_i)) * self.eta)\n",
        "                #actualizar el valor de los pesos\n",
        "                self.w[1:] += delta_w * x_i\n",
        "                #actualizar el valor del bias\n",
        "                self.w[0] += delta_w\n",
        "                if (delta_w!=0):\n",
        "                    errors += 1 \n",
        "            self.errors.append(errors)      #O(1)\n",
        " \n",
        "\n",
        "    def predict(self, X):     #O(1)\n",
        "        #combinacion lineal, w[0] = bias\n",
        "        v = np.dot( X, self.w [1:]) + self.w[0]     #O(1)\n",
        "        #funcion de activación \n",
        "        if v > 0.0:             #O(1)\n",
        "            return 1              #O(1)\n",
        "        return -1               #O(1)"
      ]
    },
    {
      "cell_type": "code",
      "execution_count": null,
      "metadata": {
        "colab": {
          "base_uri": "https://localhost:8080/",
          "height": 73,
          "resources": {
            "http://localhost:8080/nbextensions/google.colab/files.js": {
              "data": "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",
              "ok": true,
              "headers": [
                [
                  "content-type",
                  "application/javascript"
                ]
              ],
              "status": 200,
              "status_text": "OK"
            }
          }
        },
        "id": "oqIom1Bl65Tj",
        "outputId": "6cd6fc7a-0d54-4349-e8a7-8c42873a2aa0"
      },
      "outputs": [
        {
          "output_type": "display_data",
          "data": {
            "text/plain": [
              "<IPython.core.display.HTML object>"
            ],
            "text/html": [
              "\n",
              "     <input type=\"file\" id=\"files-5acb731b-4240-47fe-888d-13c20b945446\" name=\"files[]\" multiple disabled\n",
              "        style=\"border:none\" />\n",
              "     <output id=\"result-5acb731b-4240-47fe-888d-13c20b945446\">\n",
              "      Upload widget is only available when the cell has been executed in the\n",
              "      current browser session. Please rerun this cell to enable.\n",
              "      </output>\n",
              "      <script src=\"/nbextensions/google.colab/files.js\"></script> "
            ]
          },
          "metadata": {}
        },
        {
          "output_type": "stream",
          "name": "stdout",
          "text": [
            "Saving Skin_NonSkin.txt to Skin_NonSkin.txt\n"
          ]
        }
      ],
      "source": [
        "#cargar los archivos de los dataset\n",
        "files.upload();"
      ]
    },
    {
      "cell_type": "markdown",
      "metadata": {
        "id": "NNTsqos28KGF"
      },
      "source": [
        "# Leer el dataset skin segmentation\n",
        "\n",
        "The skin dataset is collected by randomly sampling B,G,R values from face images of various age groups (young, middle, and old), race groups (white, black, and asian), and genders obtained from FERET database and PAL database. Total learning sample size is 245057; out of which 50859 is the skin samples and 194198 is non-skin samples.\n",
        "\n",
        ">50859 -> skin 80% = 40687 \\\n",
        "194198 -> non-skin 80% = 155358\n",
        "\n",
        "El dataset esta disponible en https://archive.ics.uci.edu/ml/datasets/Skin+Segmentation\n"
      ]
    },
    {
      "cell_type": "code",
      "execution_count": null,
      "metadata": {
        "colab": {
          "base_uri": "https://localhost:8080/"
        },
        "id": "cJEGWWyq5fAN",
        "outputId": "138401f3-f00b-4bec-f15e-1b6b3c7fa169"
      },
      "outputs": [
        {
          "output_type": "stream",
          "name": "stdout",
          "text": [
            "0.029324070135206423\n"
          ]
        }
      ],
      "source": [
        "import math\n",
        "#Leer los datos del archivo\n",
        "df = pd.read_csv('Skin_NonSkin.txt', sep=\"\\t\", header=None)           #O(1)\n",
        "#tomar de las primeras 100 filas, y las 4 columnas B,G,R y si es skin o no\n",
        "skin_df = df[0:245057][[0,1,2,3]]                 #O(1)\n",
        "#tomar la columna skin como 1 para skin y 2 para no-skin  \n",
        "y_skin = df[0:245057][[3]]                        #O(1)\n",
        "y_skin = np.where(y_skin == 'Skin', 1, 2)         #O(1)\n",
        "\n",
        "#print(\"Primeros valores del dataset\")\n",
        "#print(df.head(100))\n",
        "#print(skin_df)\n",
        "\n",
        "skin_aux = []                           #O(1)\n",
        "for i in range(len(skin_df)):             #O(n)\n",
        "  aux = str(skin_df[0][i])+str(skin_df[1][i])+str(skin_df[2][i])  #O(1)\n",
        "  skin_aux.append(float(aux)/255255255)                           #O(1)\n",
        "print(skin_aux[0])                      #O(1)"
      ]
    },
    {
      "cell_type": "code",
      "source": [
        "print(skin_aux[1])      #O(1)"
      ],
      "metadata": {
        "colab": {
          "base_uri": "https://localhost:8080/"
        },
        "id": "ChNsoMfxGDq9",
        "outputId": "f94c7405-fb5d-4034-c93b-2c68f48bb29c"
      },
      "execution_count": null,
      "outputs": [
        {
          "output_type": "stream",
          "name": "stdout",
          "text": [
            "0.0289283838642225\n"
          ]
        }
      ]
    },
    {
      "cell_type": "code",
      "source": [
        "print(skin_df)          #O(1)"
      ],
      "metadata": {
        "colab": {
          "base_uri": "https://localhost:8080/"
        },
        "id": "b2V1TP1HF6B3",
        "outputId": "fdf6b23c-8c89-4920-f358-0e6190c93970"
      },
      "execution_count": null,
      "outputs": [
        {
          "output_type": "stream",
          "name": "stdout",
          "text": [
            "          0    1    2  3\n",
            "0        74   85  123  1\n",
            "1        73   84  122  1\n",
            "2        72   83  121  1\n",
            "3        70   81  119  1\n",
            "4        70   81  119  1\n",
            "...     ...  ...  ... ..\n",
            "245052  163  162  112  2\n",
            "245053  163  162  112  2\n",
            "245054  163  162  112  2\n",
            "245055  163  162  112  2\n",
            "245056  255  255  255  2\n",
            "\n",
            "[245057 rows x 4 columns]\n"
          ]
        }
      ]
    },
    {
      "cell_type": "code",
      "source": [
        "print(skin_df[-5000:][[1]])     #O(1)\n",
        "range(5000)                     #O(1)"
      ],
      "metadata": {
        "colab": {
          "base_uri": "https://localhost:8080/"
        },
        "id": "p-Zk0fO6PlMt",
        "outputId": "26234c58-212c-4f9b-f942-025cb88b35ed"
      },
      "execution_count": null,
      "outputs": [
        {
          "output_type": "stream",
          "name": "stdout",
          "text": [
            "          1\n",
            "240057   68\n",
            "240058   69\n",
            "240059   69\n",
            "240060   69\n",
            "240061   69\n",
            "...     ...\n",
            "245052  162\n",
            "245053  162\n",
            "245054  162\n",
            "245055  162\n",
            "245056  255\n",
            "\n",
            "[5000 rows x 1 columns]\n"
          ]
        },
        {
          "output_type": "execute_result",
          "data": {
            "text/plain": [
              "range(0, 5000)"
            ]
          },
          "metadata": {},
          "execution_count": 95
        }
      ]
    },
    {
      "cell_type": "code",
      "source": [
        "print(len(skin_aux))        #O(1)"
      ],
      "metadata": {
        "colab": {
          "base_uri": "https://localhost:8080/"
        },
        "id": "k4hafkG2K7Lh",
        "outputId": "6230e622-093d-4eb5-ac9d-b8b55cfbc173"
      },
      "execution_count": null,
      "outputs": [
        {
          "output_type": "stream",
          "name": "stdout",
          "text": [
            "245057\n"
          ]
        }
      ]
    },
    {
      "cell_type": "code",
      "source": [
        "print(skin_aux[:100])       #O(1)"
      ],
      "metadata": {
        "colab": {
          "base_uri": "https://localhost:8080/"
        },
        "id": "oceg4jSILxzR",
        "outputId": "b48734d5-cd00-44a0-906e-4a442cf6c1f6"
      },
      "execution_count": null,
      "outputs": [
        {
          "output_type": "stream",
          "name": "stdout",
          "text": [
            "[0.029324070135206423, 0.0289283838642225, 0.02853269759323858, 0.02774132505127074, 0.02774132505127074, 0.027345638780286816, 0.02774132505127074, 0.02774132505127074, 0.030115442677174267, 0.030115442677174267, 0.03051112894815819, 0.03051112894815819, 0.03051112894815819, 0.030906815219142108, 0.0304993720893229, 0.030895058360306822, 0.030895058360306822, 0.0304993720893229, 0.03010368581833898, 0.0304993720893229, 0.031686430902274666, 0.03287348971522643, 0.03287348971522643, 0.033269175986210354, 0.033269175986210354, 0.03287348971522643, 0.031686430902274666, 0.030895058360306822, 0.030895058360306822, 0.031290744631290744, 0.030895058360306822, 0.031290744631290744, 0.03208211717325859, 0.03247780344424251, 0.03287348971522643, 0.03247780344424251, 0.03208211717325859, 0.03208211717325859, 0.033269175986210354, 0.03208211717325859, 0.031290744631290744, 0.031290744631290744, 0.03247780344424251, 0.03287348971522643, 0.03247780344424251, 0.03090290148972643, 0.03129858776071035, 0.03091074461914604, 0.03130643089012996, 0.03170211716111388, 0.03170211716111388, 0.03170211716111388, 0.03170211716111388, 0.03130643089012996, 0.03288917597406565, 0.032493489703081725, 0.0320978034320978, 0.03170211716111388, 0.03091074461914604, 0.03051505834816212, 0.030119372077178196, 0.02894407404070878, 0.029735446582676624, 0.029735446582676624, 0.03090290148972643, 0.031290744631290744, 0.03167859952579625, 0.030891148548538208, 0.029711936782653114, 0.02736526619207115, 0.02421939168304292, 0.5961844859961845, 0.5648315408824786, 0.5726825212668002, 0.6118786075530551, 0.6432393957961806, 0.647153121294212, 0.6589099918824394, 0.6589060977412591, 0.6667453212667453, 0.6863531565687061, 0.7059649095177296, 0.7333962820863374, 0.7530001879882943, 0.7608393997608394, 0.7686786036980904, 0.8039570233333688, 0.8078785802078786, 0.8117962233529727, 0.8235569920000276, 0.8431452312313805, 0.8509922782980511, 0.8627530586980472, 0.866678552807855, 0.8706118704588471, 0.854933446913757, 0.8431687527843452, 0.8353256233647374, 0.8274824939451295, 0.8235609292353256]\n"
          ]
        }
      ]
    },
    {
      "cell_type": "markdown",
      "metadata": {
        "id": "BjHC9QpG-Do5"
      },
      "source": [
        "# Selección de datos"
      ]
    },
    {
      "cell_type": "code",
      "source": [
        "fig = plt.figure()        #O(1)\n",
        "ax1 = fig.add_subplot(111, projection='3d')       #O(1)\n",
        "\n",
        "numDatos=25000            #O(1)\n",
        "\n",
        "ax1.scatter(skin_df[:numDatos][[0]], skin_df[:numDatos][[1]], skin_df[:numDatos][[2]], color='green', marker='+', label='Skin')       #O(1)\n",
        "ax1.scatter(skin_df[-numDatos:][[0]], skin_df[-numDatos:][[1]], skin_df[-numDatos:][[2]], color='red', marker='x', label='No Skin')   #O(1)\n",
        "\n",
        "ax1.set_xlabel('Blue')            #O(1)\n",
        "ax1.set_ylabel('Green')           #O(1)\n",
        "ax1.set_zlabel('Red')             #O(1)\n",
        "ax1.legend(loc='upper right')     #O(1)\n",
        "\n",
        "plt.show()                        #O(1)"
      ],
      "metadata": {
        "colab": {
          "base_uri": "https://localhost:8080/",
          "height": 248
        },
        "id": "_AnLG06NL6RP",
        "outputId": "3d1f2541-4af7-4fff-8e51-de079659ce8d"
      },
      "execution_count": null,
      "outputs": [
        {
          "output_type": "display_data",
          "data": {
            "text/plain": [
              "<Figure size 432x288 with 1 Axes>"
            ],
            "image/png": "[encoded data removed]"
          },
          "metadata": {
            "needs_background": "light"
          }
        }
      ]
    },
    {
      "cell_type": "markdown",
      "metadata": {
        "id": "Bs_MoHcx-g4G"
      },
      "source": [
        "Como se puede ver en la gráfica los datos son diferenciables entonces se pueden usar estos datos."
      ]
    },
    {
      "cell_type": "markdown",
      "metadata": {
        "id": "YF5fxQEU9NVY"
      },
      "source": [
        "# Entrenamiento del perceptron\n",
        "\n",
        "Se toma un sudDataSet para el entrenamiento y prueba del perceptrón.\n",
        "\n",
        "Se toma el 80% del sudDataSet para entrenar el perceptron.\n",
        "\n"
      ]
    },
    {
      "cell_type": "code",
      "execution_count": null,
      "metadata": {
        "colab": {
          "base_uri": "https://localhost:8080/",
          "height": 297
        },
        "id": "-poImdxBAMQg",
        "outputId": "994af213-f8b1-40d9-e97c-4e3437032fdc"
      },
      "outputs": [
        {
          "output_type": "display_data",
          "data": {
            "text/plain": [
              "<Figure size 432x288 with 1 Axes>"
            ],
            "image/png": "[encoded data removed]"
          },
          "metadata": {
            "needs_background": "light"
          }
        }
      ],
      "source": [
        "#tomar el 80 % del  dataset para el entrenamiento\n",
        "\n",
        "# X_training = np.concatenate((skin_df[0:40687][[0,1,2]],skin_df[50860:206218][[0,1,2]]),axis=0)\n",
        "# y_training = np.concatenate((skin_df[0:40687][[3]],skin_df[50860:206218][[3]]),axis=0)\n",
        "\n",
        "X_training = np.concatenate((skin_df[0:10000][[0,1,2]],skin_df[50860:50860+10000][[0,1,2]]),axis=0)   #O(1)\n",
        "y_training = np.concatenate((skin_df[0:10000][[3]],skin_df[50860:50860+10000][[3]]),axis=0)           #O(1)\n",
        "\n",
        "#entrenar el perceptron\n",
        "perceptron = Perceptron(2)                  #O(1)\n",
        "perceptron.train(X_training, y_training)    #O(n^2)\n",
        "\n",
        "plt.plot(range(1, len(perceptron.errors) + 1), perceptron.errors, marker='o')   #O(1)\n",
        "plt.xlabel('Iteración')     #O(1)\n",
        "plt.ylabel('Número de actualizaciones')     #O(1)\n",
        "\n",
        "plt.tight_layout()          #O(1)\n",
        "plt.show()                  #O(1)"
      ]
    },
    {
      "cell_type": "markdown",
      "metadata": {
        "id": "SOg23t6dAgYy"
      },
      "source": [
        "# Prueba del perceptron\n",
        "Se toma el 20% restante del subDataset para probar el perceptron:"
      ]
    },
    {
      "cell_type": "code",
      "execution_count": null,
      "metadata": {
        "colab": {
          "base_uri": "https://localhost:8080/"
        },
        "id": "mIEwfhPyApwv",
        "outputId": "0f744e9e-8199-4e64-cda1-d986da94f63c"
      },
      "outputs": [
        {
          "output_type": "stream",
          "name": "stdout",
          "text": [
            "error = 50.0%\n"
          ]
        }
      ],
      "source": [
        "#Tomar el 20% restante del dataset para probar el perceptron\n",
        "X_test = np.concatenate((skin_df[0+10000:10000+2000][[0,1,2]],skin_df[50860+10000:50860+10000+2000][[0,1,2]]),axis=0)     #O(1)\n",
        "y_test = np.concatenate((skin_df[0+10000:10000+2000][[3]],skin_df[50860+10000:50860+10000+2000][[3]]),axis=0)             #O(1)\n",
        "\n",
        "#calcular los errores en la clasificacion \n",
        "error = 0           #O(1)\n",
        "for i in range(0,len(X_test)):          #O(n)\n",
        "    if perceptron.predict(X_test[i]) != y_test[i]:      #O(1)\n",
        "        error += 1                                      #O(1)\n",
        "error = error / len(X_test) * 100       #O(1)\n",
        "print(\"error = {}%\".format(error))      #O(1)"
      ]
    },
    {
      "cell_type": "markdown",
      "source": [
        "# **Análisis del perceptrón**\n",
        "\n"
      ],
      "metadata": {
        "id": "dTnq12awwxkA"
      }
    },
    {
      "cell_type": "markdown",
      "metadata": {
        "id": "y6kpcqW8NF3k"
      },
      "source": [
        "El perceptron simple presentó un 50% de exactitud una de las primeras razones que se podria intuir frente a esta cifra es que esto es debido a la poca capacidad de del perceptron para analizar toda muestra que este posee (de 245057 filas de datos presentes en el dataset el perceptron solo utilizó 10000 datos, lo que implica que la muestra tan solo fue correspondiente a un 4% aproximado de todo el dataset). Esto sin embargo no es realmente la verdadera causa pues la idea de un modelo neuronal es lograr clasificar sin haber visto todas las posibilidades.\n",
        "\n",
        "La causa más probable de que la efectividad solo pudiese llegar a esta cifra del 50% se encuentra en el simple hecho de que se está intentanto realizar un clasificador para datos que pueden ser del orden 10^9 de magnitud con un solo perceptron y esto a su vez a la simplicidad de este, el cual está diseñado para hacer analisis de datos a nivel bidimencional, cosa constituyó un limité puesto que los datos a manejar en el dataset utilizado constaban de 4 columnas de datos, las primeras tres siendo un valor para la codificación RGB y la ultima siendo el indicador binario para saber si dicha codificacion RGB se trataba de un \"color piel\" o no.\n",
        "\n",
        "\n",
        "\n"
      ]
    },
    {
      "cell_type": "markdown",
      "metadata": {
        "id": "cNl5zniX9O8l"
      },
      "source": [
        "# Referencias\n",
        "\n",
        "https://www.llipe.com/2017/04/19/programando-un-clasificador-perceptron-en-python/\n",
        "\n",
        "https://machinelearningmastery.com/standard-machine-learning-datasets/\n",
        "\n",
        "Dataset tomado de: https://archive.ics.uci.edu/ml/datasets/Skin+Segmentation\n",
        "\n"
      ]
    }
  ],
  "metadata": {
    "colab": {
      "collapsed_sections": [],
      "name": "Entregable Perceptrón - Grupo 6.ipynb",
      "provenance": []
    },
    "kernelspec": {
      "display_name": "Python 3",
      "name": "python3"
    }
  },
  "nbformat": 4,
  "nbformat_minor": 0
}