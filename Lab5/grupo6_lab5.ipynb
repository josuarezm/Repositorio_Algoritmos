{
  "nbformat": 4,
  "nbformat_minor": 0,
  "metadata": {
    "colab": {
      "name": "OFICIAL_grupo6_lab5.ipynb",
      "provenance": [],
      "collapsed_sections": []
    },
    "kernelspec": {
      "name": "python3",
      "display_name": "Python 3"
    },
    "language_info": {
      "name": "python"
    }
  },
  "cells": [
    {
      "cell_type": "markdown",
      "source": [
        "# **Propuesta  (usando genes binarios)**"
      ],
      "metadata": {
        "id": "Cxrvnjfv8wNQ"
      }
    },
    {
      "cell_type": "code",
      "source": [
        "# Importo las bibliotecas necesarias\n",
        "import matplotlib.pyplot as plt\n",
        "import numpy as np\n",
        "import math\n",
        "\n",
        "#se define la funcion problema \n",
        "def fx(x):    #O(1)\n",
        "    return -(0.1+(1-x)**2-0.1*math.cos(6*math.pi*(1-x)))+2\n",
        "\n",
        "#convierte las listas de genes binarios a un flotante que se reflejará como individuo en la grafica\n",
        "  #Entradas: binary - list  de elementos binarios.\n",
        "def binary2decimal(binary):     #O(binary) - O(n)\n",
        "  number = 0  \n",
        "  for b in binary:\n",
        "    number = (2 * number) + b\n",
        "  return number # float dentro del rango (0-2)\n",
        "\n",
        "#define la forma como se emplea la mutacion \n",
        "#Entradas: lista de individuos (poblacion), probabilidad de mutacion, lista de configuracion de genes posibles (genetic_pool)\n",
        "def mutate(individuals, prob, pool):      #O(individuals*(mutate_individual*prob)) - O(n^2)\n",
        "    for i in range(len(individuals)):       #O(individuals*(mutate_individual*prob)) - O(n^2)\n",
        "        mutate_individual=individuals[i]\n",
        "        if np.random.random() < prob:\n",
        "            mutation = np.random.choice(pool[0])\n",
        "            mutate_individual = [mutation] + mutate_individual[1:]\n",
        "        \n",
        "        for j in range(1,len(mutate_individual)):   #O(mutate_individual*prob) - O(n)\n",
        "            if np.random.random() < prob:\n",
        "                mutation = np.random.choice(pool[1])\n",
        "                mutate_individual = mutate_individual[0:j] + [mutation] + mutate_individual[j+1:] # +1 permite omitir el gen antiguo por el mutado\n",
        "        individuals[i] = mutate_individual\n",
        "\n",
        "#define el rango en el cual los individuos pueden reproducirse \n",
        "#aquellos individuos dentro de este rango (floats entre 0 y 2) se eliminarán de la poblacion \n",
        "#Entradas: min-float entre 0 y 2, max-float entre 0 y 2, poblacion - lista de individuos\n",
        "def rangoBusqueda(min,max,poblacion):   #O(n)\n",
        "    for individuo in poblacion:\n",
        "        x = binary2decimal(individuo)/(2**longitud_gen/2)\n",
        "        if (x < min) or (x > max):\n",
        "            poblacion.remove(individuo)\n",
        "    return poblacion\n",
        "\n",
        "def errorPromedio(valorMaxFunc,poblacion):\n",
        "    sumatoria = 0 \n",
        "    for individuo in poblacion:\n",
        "        x = binary2decimal(individuo)/(2**longitud_gen/2)\n",
        "        y = fx(x)\n",
        "        \n",
        "        sumatoria = sumatoria + abs(valorMaxFunc - y)\n",
        "    error = sumatoria/len(poblacion)\n",
        "    return error\n",
        "# def mejorIndividuo(poblacion):\n",
        "#   return poblacion[np.where(fitness == fitness.max())[0][0]]\n",
        "\n",
        "def mejorIndividuo(poblacion):\n",
        "    imagenY = 0  \n",
        "    mejorIndividuo = list()\n",
        "    for individuo in poblacion:\n",
        "        x = binary2decimal(individuo)/(2**longitud_gen/2)\n",
        "        y = fx(x) \n",
        "        #el que tenga mayor f(x) es el mejor de cada gen :s\n",
        "        if imagenY < y:\n",
        "            imagenY = y\n",
        "            mejorIndividuo = individuo\n",
        "    \n",
        "    return mejorIndividuo, imagenY\n",
        "\n",
        "\n",
        "    \n",
        "\n",
        "\n",
        "\n",
        "poblacion = []\n",
        "genetic_pool = [[0,1],[0,1]]\n",
        "longitud_gen = int(input(\"Ingrese la longitud del gen: \"))\n",
        "ind_size = longitud_gen\n",
        "tamano_poblacion = int(input(\"Ingrese el tamaño de la población: \"))\n",
        "p_mutacion = float(input(\"Ingrese la probabilidad de mutación: \"))\n",
        "cantidad_generaciones = int(input(\"Ingrese la cantidad de generaciones: \"))\n",
        "rango_busquedaMin = float(input(\"Ingrese el valor minimo para el rango de busqueda: (float entre 0 y 2) \"))\n",
        "rango_busquedaMax = float(input(\"Ingrese el valor maximo para el rango de busqueda: (float entre 0 y 2) \"))\n",
        "\n",
        "y_axis = []\n",
        "# x_axis=np.arange(0,rango_busqueda,0.02)\n",
        "x_axis=np.arange(0,2,0.02)\n",
        "\n",
        "for num in x_axis:\n",
        "    y_axis.append(fx(num))\n",
        "\n",
        "for i in range(tamano_poblacion):\n",
        "    individuo = list(np.random.choice(genetic_pool[0],longitud_gen))\n",
        "    poblacion.append(individuo)\n",
        "\n",
        "\n",
        "errorGeneracional = []\n",
        "mejores_individuos = []\n",
        "mejores_individuosGen = []\n",
        "for _ in range(cantidad_generaciones):\n",
        "    \n",
        "    fitness =[]\n",
        "\n",
        "    # Extraigo los valores de y para medir su éxito\n",
        "    for individuo in poblacion:\n",
        "        x = binary2decimal(individuo)/(2**longitud_gen/2)\n",
        "        y = fx(x)\n",
        "        fitness += [y]\n",
        "\n",
        "    # Convierto fitness en un vector para realizar operaciones más fácilmente\n",
        "    fitness = np.array(fitness)\n",
        "\n",
        "    # Divido todos los valores de y para la suma total y así obtener valores entre 0 y 1\n",
        "    fitness=fitness/fitness.sum()    \n",
        "\n",
        "    # Se reproducen los mejores individuos\n",
        "    offspring = []\n",
        "    \n",
        "    size_poblacion = len(poblacion)\n",
        "    for i in range(size_poblacion//2):\n",
        "        parents = np.random.choice(size_poblacion, 2, p=fitness)\n",
        "        cross_point = np.random.randint(ind_size)\n",
        "        offspring += [poblacion[parents[0]][:cross_point] + poblacion[parents[1]][cross_point:]]\n",
        "        offspring += [poblacion[parents[1]][:cross_point] + poblacion[parents[0]][cross_point:]]    \n",
        "\n",
        "    poblacion = offspring\n",
        "    \n",
        "    poblacion = rangoBusqueda(rango_busquedaMin,rango_busquedaMax,poblacion)\n",
        "    \n",
        "    # Mutacion\n",
        "    mutate(poblacion,p_mutacion,genetic_pool)\n",
        "\n",
        "    error = errorPromedio(2.0,poblacion)\n",
        "    errorGeneracional.append(error)\n",
        "    mejor_individuo = mejorIndividuo(poblacion)\n",
        "    mejores_individuos.append(mejor_individuo[1])\n",
        "    mejores_individuosGen.append(mejor_individuo[0])\n",
        "\n",
        "# print(len(mejores_individuos))\n",
        "\n",
        "\n",
        "# Display\n",
        "for individuo in poblacion:\n",
        "  x = binary2decimal(individuo)/(2**longitud_gen/2)\n",
        "  y = fx(x)\n",
        "  plt.plot(x,y,'x')\n",
        "plt.plot(x_axis,y_axis)\n"
      ],
      "metadata": {
        "id": "egnYpZetaI7E",
        "colab": {
          "base_uri": "https://localhost:8080/",
          "height": 387
        },
        "outputId": "358f5cf6-c868-489a-be49-b3bdcce75311"
      },
      "execution_count": null,
      "outputs": [
        {
          "name": "stdout",
          "output_type": "stream",
          "text": [
            "Ingrese la longitud del gen: 10\n",
            "Ingrese el tamaño de la población: 100\n",
            "Ingrese la probabilidad de mutación: 0.005\n",
            "Ingrese la cantidad de generaciones: 100\n",
            "Ingrese el valor minimo para el rango de busqueda: (float entre 0 y 2) 0.1\n",
            "Ingrese el valor maximo para el rango de busqueda: (float entre 0 y 2) 1.9\n"
          ]
        },
        {
          "output_type": "execute_result",
          "data": {
            "text/plain": [
              "[<matplotlib.lines.Line2D at 0x7f8e91f53dd0>]"
            ]
          },
          "metadata": {},
          "execution_count": 5
        },
        {
          "output_type": "display_data",
          "data": {
            "text/plain": [
              "<Figure size 432x288 with 1 Axes>"
            ],
            "image/png": "[encoded data removed]"
          },
          "metadata": {
            "needs_background": "light"
          }
        }
      ]
    },
    {
      "cell_type": "markdown",
      "source": [
        "**Error poblacional vs Generacion**"
      ],
      "metadata": {
        "id": "MHXRcFyr8oaA"
      }
    },
    {
      "cell_type": "code",
      "source": [
        "generacionesArray = list(np.arange(0,cantidad_generaciones,1))\n",
        "plt.plot(generacionesArray,errorGeneracional )"
      ],
      "metadata": {
        "colab": {
          "base_uri": "https://localhost:8080/",
          "height": 282
        },
        "id": "tRVPXRb0_dBt",
        "outputId": "550b287e-5c1d-4e3b-83ac-714088ebd5ec"
      },
      "execution_count": null,
      "outputs": [
        {
          "output_type": "execute_result",
          "data": {
            "text/plain": [
              "[<matplotlib.lines.Line2D at 0x7f8e920db210>]"
            ]
          },
          "metadata": {},
          "execution_count": 6
        },
        {
          "output_type": "display_data",
          "data": {
            "text/plain": [
              "<Figure size 432x288 with 1 Axes>"
            ],
            "image/png": "[encoded data removed]"
          },
          "metadata": {
            "needs_background": "light"
          }
        }
      ]
    },
    {
      "cell_type": "markdown",
      "source": [
        "**Mejores individuos VS generación**"
      ],
      "metadata": {
        "id": "zXoMJ1wj8YX_"
      }
    },
    {
      "cell_type": "code",
      "source": [
        "generacionesArray = list(np.arange(0,cantidad_generaciones,1))\n",
        "# print(len(generacionesArray))\n",
        "# print(mejores_individuos)\n",
        "# plot\n",
        "fig, ax = plt.subplots()\n",
        "ax.scatter(generacionesArray, mejores_individuos, s=10 )\n",
        "# plt.plot(generacionesArray,mejores_individuos,'o')\n",
        "plt.show()"
      ],
      "metadata": {
        "colab": {
          "base_uri": "https://localhost:8080/",
          "height": 265
        },
        "id": "1Sg5NxZIB4K3",
        "outputId": "bb73c209-15de-41c8-88ff-d008b153bede"
      },
      "execution_count": null,
      "outputs": [
        {
          "output_type": "display_data",
          "data": {
            "text/plain": [
              "<Figure size 432x288 with 1 Axes>"
            ],
            "image/png": "[encoded data removed]"
          },
          "metadata": {
            "needs_background": "light"
          }
        }
      ]
    },
    {
      "cell_type": "markdown",
      "source": [
        "# **Ejecución del codigo con otro tipo de funciones:**"
      ],
      "metadata": {
        "id": "9xlMA3ePw3OB"
      }
    },
    {
      "cell_type": "markdown",
      "source": [
        "**Funcion oscilante** (e^-x * sin(2 π x)) +1"
      ],
      "metadata": {
        "id": "NoCjXXSOxGcT"
      }
    },
    {
      "cell_type": "code",
      "source": [
        "# Importo las bibliotecas necesarias\n",
        "import matplotlib.pyplot as plt\n",
        "import numpy as np\n",
        "import math\n",
        "\n",
        "#se define la funcion problema \n",
        "def fx(x):    #O(1)\n",
        "    # return -(aunq.1+(1-x)**2-0.1*math.cos(6*math.pi*(1-x)))+2\n",
        "    return (math.exp(-x))*math.sin(2*math.pi*x)+1\n",
        "\n",
        "#convierte las listas de genes binarios a un flotante que se reflejará como individuo en la grafica\n",
        "  #Entradas: binary - list  de elementos binarios.\n",
        "def binary2decimal(binary):     #O(binary) - O(n)\n",
        "  number = 0  \n",
        "  for b in binary:\n",
        "    number = (2 * number) + b\n",
        "  return number # float dentro del rango (0-2)\n",
        "\n",
        "#define la forma como se emplea la mutacion \n",
        "#Entradas: lista de individuos (poblacion), probabilidad de mutacion, lista de configuracion de genes posibles (genetic_pool)\n",
        "def mutate(individuals, prob, pool):      #O(individuals*(mutate_individual*prob)) - O(n^2)\n",
        "    for i in range(len(individuals)):       #O(individuals*(mutate_individual*prob)) - O(n^2)\n",
        "        mutate_individual=individuals[i]\n",
        "        if np.random.random() < prob:\n",
        "            mutation = np.random.choice(pool[0])\n",
        "            mutate_individual = [mutation] + mutate_individual[1:]\n",
        "        \n",
        "        for j in range(1,len(mutate_individual)):   #O(mutate_individual*prob) - O(n)\n",
        "            if np.random.random() < prob:\n",
        "                mutation = np.random.choice(pool[1])\n",
        "                mutate_individual = mutate_individual[0:j] + [mutation] + mutate_individual[j+1:] # +1 permite omitir el gen antiguo por el mutado\n",
        "        individuals[i] = mutate_individual\n",
        "\n",
        "#define el rango en el cual los individuos pueden reproducirse \n",
        "#aquellos individuos dentro de este rango (floats entre 0 y 2) se eliminarán de la poblacion \n",
        "#Entradas: min-float entre 0 y 2, max-float entre 0 y 2, poblacion - lista de individuos\n",
        "def rangoBusqueda(min,max,poblacion):   #O(n)\n",
        "    for individuo in poblacion:\n",
        "        x = binary2decimal(individuo)/(2**longitud_gen/2)\n",
        "        if (x < min) or (x > max):\n",
        "            poblacion.remove(individuo)\n",
        "    return poblacion\n",
        "\n",
        "#define el error estimado de la población al intentar acercarse al maximo de la funcion \n",
        "#Entradas: valorMaxFunc - float (valor maximo de la funcion en f(x))  poblacion - lista de la poblacion\n",
        "def errorPromedio(valorMaxFunc,poblacion):\n",
        "    sumatoria = 0 \n",
        "    for individuo in poblacion:\n",
        "        x = binary2decimal(individuo)/(2**longitud_gen/2)\n",
        "        y = fx(x)\n",
        "        \n",
        "        sumatoria = sumatoria + abs(valorMaxFunc - y)\n",
        "    error = sumatoria/len(poblacion)\n",
        "    return error\n",
        "# def mejorIndividuo(poblacion):\n",
        "#   return poblacion[np.where(fitness == fitness.max())[0][0]]\n",
        "\n",
        "def mejorIndividuo(poblacion):\n",
        "    imagenY = 0  \n",
        "    mejorIndividuo = list()\n",
        "    for individuo in poblacion:\n",
        "        x = binary2decimal(individuo)/(2**longitud_gen/2)\n",
        "        y = fx(x) \n",
        "        #el que tenga mayor f(x) es el mejor de cada gen :s\n",
        "        if imagenY < y:\n",
        "            imagenY = y\n",
        "            mejorIndividuo = individuo\n",
        "    \n",
        "    return mejorIndividuo, imagenY\n",
        "\n",
        "\n",
        "    \n",
        "\n",
        "\n",
        "\n",
        "poblacion = []\n",
        "genetic_pool = [[0,1],[0,1]]\n",
        "longitud_gen = int(input(\"Ingrese la longitud del gen: \"))\n",
        "ind_size = longitud_gen\n",
        "tamano_poblacion = int(input(\"Ingrese el tamaño de la población: \"))\n",
        "p_mutacion = float(input(\"Ingrese la probabilidad de mutación: \"))\n",
        "cantidad_generaciones = int(input(\"Ingrese la cantidad de generaciones: \"))\n",
        "rango_busquedaMin = float(input(\"Ingrese el valor minimo para el rango de busqueda: (float entre 0 y 2) \"))\n",
        "rango_busquedaMax = float(input(\"Ingrese el valor maximo para el rango de busqueda: (float entre 0 y 2) \"))\n",
        "\n",
        "y_axis = []\n",
        "# x_axis=np.arange(0,rango_busqueda,0.02)\n",
        "x_axis=np.arange(0,2,0.02)\n",
        "\n",
        "for num in x_axis:\n",
        "    y_axis.append(fx(num))\n",
        "\n",
        "for i in range(tamano_poblacion):\n",
        "    individuo = list(np.random.choice(genetic_pool[0],longitud_gen))\n",
        "    poblacion.append(individuo)\n",
        "\n",
        "\n",
        "errorGeneracional = []\n",
        "mejores_individuos = []\n",
        "mejores_individuosGen = []\n",
        "for _ in range(cantidad_generaciones):\n",
        "    \n",
        "    fitness =[]\n",
        "\n",
        "    # Extraigo los valores de y para medir su éxito\n",
        "    for individuo in poblacion:\n",
        "        x = binary2decimal(individuo)/(2**longitud_gen/2)\n",
        "        y = fx(x)\n",
        "        fitness += [y]\n",
        "\n",
        "    # Convierto fitness en un vector para realizar operaciones más fácilmente\n",
        "    fitness = np.array(fitness)\n",
        "\n",
        "    # Divido todos los valores de y para la suma total y así obtener valores entre 0 y 1\n",
        "    fitness=fitness/fitness.sum()    \n",
        "\n",
        "    # Se reproducen los mejores individuos\n",
        "    offspring = []\n",
        "    \n",
        "    size_poblacion = len(poblacion)\n",
        "    for i in range(size_poblacion//2):\n",
        "        parents = np.random.choice(size_poblacion, 2, p=fitness)\n",
        "        cross_point = np.random.randint(ind_size)\n",
        "        offspring += [poblacion[parents[0]][:cross_point] + poblacion[parents[1]][cross_point:]]\n",
        "        offspring += [poblacion[parents[1]][:cross_point] + poblacion[parents[0]][cross_point:]]    \n",
        "\n",
        "    poblacion = offspring\n",
        "    \n",
        "    poblacion = rangoBusqueda(rango_busquedaMin,rango_busquedaMax,poblacion)\n",
        "    \n",
        "    # Mutacion\n",
        "    mutate(poblacion,p_mutacion,genetic_pool)\n",
        "\n",
        "    error = errorPromedio(1.78886,poblacion)\n",
        "    errorGeneracional.append(error)\n",
        "    mejor_individuo = mejorIndividuo(poblacion)\n",
        "    mejores_individuos.append(mejor_individuo[1])\n",
        "    mejores_individuosGen.append(mejor_individuo[0])\n",
        "    \n",
        "print(len(mejores_individuos))\n",
        "\n",
        "\n",
        "# Display\n",
        "for individuo in poblacion:\n",
        "  x = binary2decimal(individuo)/(2**longitud_gen/2)\n",
        "  y = fx(x)\n",
        "  plt.plot(x,y,'x')\n",
        "plt.plot(x_axis,y_axis)\n"
      ],
      "metadata": {
        "id": "2oGuwChPw-Ub",
        "colab": {
          "base_uri": "https://localhost:8080/",
          "height": 404
        },
        "outputId": "4ab42216-b9b0-4e8e-f6c0-e8a32a11f510"
      },
      "execution_count": null,
      "outputs": [
        {
          "output_type": "stream",
          "name": "stdout",
          "text": [
            "Ingrese la longitud del gen: 10\n",
            "Ingrese el tamaño de la población: 100\n",
            "Ingrese la probabilidad de mutación: 0.005\n",
            "Ingrese la cantidad de generaciones: 100\n",
            "Ingrese el valor minimo para el rango de busqueda: (float entre 0 y 2) 0.1\n",
            "Ingrese el valor maximo para el rango de busqueda: (float entre 0 y 2) 1.9\n",
            "100\n"
          ]
        },
        {
          "output_type": "execute_result",
          "data": {
            "text/plain": [
              "[<matplotlib.lines.Line2D at 0x7f8e91d173d0>]"
            ]
          },
          "metadata": {},
          "execution_count": 8
        },
        {
          "output_type": "display_data",
          "data": {
            "text/plain": [
              "<Figure size 432x288 with 1 Axes>"
            ],
            "image/png": "[encoded data removed]"
          },
          "metadata": {
            "needs_background": "light"
          }
        }
      ]
    },
    {
      "cell_type": "markdown",
      "source": [
        "**Error poblacional vs Generacion**"
      ],
      "metadata": {
        "id": "yDq0M8uBxo0L"
      }
    },
    {
      "cell_type": "code",
      "source": [
        "generacionesArray = list(np.arange(0,cantidad_generaciones,1))\n",
        "plt.plot(generacionesArray,errorGeneracional )"
      ],
      "metadata": {
        "colab": {
          "base_uri": "https://localhost:8080/",
          "height": 282
        },
        "id": "8RC-ZToY-9I2",
        "outputId": "1e64aa39-00f9-4ac9-926a-021febf00f66"
      },
      "execution_count": null,
      "outputs": [
        {
          "output_type": "execute_result",
          "data": {
            "text/plain": [
              "[<matplotlib.lines.Line2D at 0x7f8e91c1e250>]"
            ]
          },
          "metadata": {},
          "execution_count": 9
        },
        {
          "output_type": "display_data",
          "data": {
            "text/plain": [
              "<Figure size 432x288 with 1 Axes>"
            ],
            "image/png": "[encoded data removed]"
          },
          "metadata": {
            "needs_background": "light"
          }
        }
      ]
    },
    {
      "cell_type": "markdown",
      "source": [
        "**Mejores individuos VS generación**"
      ],
      "metadata": {
        "id": "rDGYwTh1xo0M"
      }
    },
    {
      "cell_type": "code",
      "source": [
        "generacionesArray = list(np.arange(0,cantidad_generaciones,1))\n",
        "# print(len(generacionesArray))\n",
        "# print(mejores_individuos)\n",
        "# plot\n",
        "fig, ax = plt.subplots()\n",
        "ax.scatter(generacionesArray, mejores_individuos, s=10 )\n",
        "# plt.plot(generacionesArray,mejores_individuos,'o')\n",
        "plt.show()"
      ],
      "metadata": {
        "colab": {
          "base_uri": "https://localhost:8080/",
          "height": 268
        },
        "outputId": "5b9a2660-df6d-46c1-868a-814ddf3fab28",
        "id": "_RrFv-n4xo0M"
      },
      "execution_count": null,
      "outputs": [
        {
          "output_type": "display_data",
          "data": {
            "text/plain": [
              "<Figure size 432x288 with 1 Axes>"
            ],
            "image/png": "[encoded data removed]"
          },
          "metadata": {
            "needs_background": "light"
          }
        }
      ]
    },
    {
      "cell_type": "code",
      "source": [
        "np.where(fitness == fitness.max())"
      ],
      "metadata": {
        "colab": {
          "base_uri": "https://localhost:8080/"
        },
        "id": "2_oICNxizlZb",
        "outputId": "293f2514-32a2-49f0-e89a-49ea23f84193"
      },
      "execution_count": null,
      "outputs": [
        {
          "output_type": "execute_result",
          "data": {
            "text/plain": [
              "(array([ 0, 10, 21, 43]),)"
            ]
          },
          "metadata": {},
          "execution_count": 11
        }
      ]
    },
    {
      "cell_type": "code",
      "source": [
        "binary2decimal(poblacion[np.where(fitness == fitness.max())[0][0]])"
      ],
      "metadata": {
        "colab": {
          "base_uri": "https://localhost:8080/"
        },
        "id": "pCJAe9pVzo4U",
        "outputId": "850908dc-70e9-450c-bf77-a385e21d74cb"
      },
      "execution_count": null,
      "outputs": [
        {
          "output_type": "execute_result",
          "data": {
            "text/plain": [
              "93"
            ]
          },
          "metadata": {},
          "execution_count": 12
        }
      ]
    },
    {
      "cell_type": "code",
      "source": [
        "print(poblacion[0])"
      ],
      "metadata": {
        "colab": {
          "base_uri": "https://localhost:8080/"
        },
        "id": "lecztburzvtO",
        "outputId": "3363173d-f651-44ce-db24-de7002497f0f"
      },
      "execution_count": null,
      "outputs": [
        {
          "output_type": "stream",
          "name": "stdout",
          "text": [
            "[0, 0, 0, 1, 0, 1, 1, 1, 0, 1]\n"
          ]
        }
      ]
    },
    {
      "cell_type": "markdown",
      "source": [
        "**Funcion lineal** ((1/2)*x+1)"
      ],
      "metadata": {
        "id": "23hRbqQYxytJ"
      }
    },
    {
      "cell_type": "code",
      "source": [
        "# Importo las bibliotecas necesarias\n",
        "import matplotlib.pyplot as plt\n",
        "import numpy as np\n",
        "import math\n",
        "\n",
        "#se define la funcion problema \n",
        "def fx(x):    #O(1)\n",
        "    return ((1/2) *x)+1\n",
        "\n",
        "#convierte las listas de genes binarios a un flotante que se reflejará como individuo en la grafica\n",
        "  #Entradas: binary - list  de elementos binarios.\n",
        "def binary2decimal(binary):     #O(binary) - O(n)\n",
        "  number = 0  \n",
        "  for b in binary:\n",
        "    number = (2 * number) + b\n",
        "  return number # float dentro del rango (0-2)\n",
        "\n",
        "#define la forma como se emplea la mutacion \n",
        "#Entradas: lista de individuos (poblacion), probabilidad de mutacion, lista de configuracion de genes posibles (genetic_pool)\n",
        "def mutate(individuals, prob, pool):      #O(individuals*(mutate_individual*prob)) - O(n^2)\n",
        "    for i in range(len(individuals)):       #O(individuals*(mutate_individual*prob)) - O(n^2)\n",
        "        mutate_individual=individuals[i]\n",
        "        if np.random.random() < prob:\n",
        "            mutation = np.random.choice(pool[0])\n",
        "            mutate_individual = [mutation] + mutate_individual[1:]\n",
        "        \n",
        "        for j in range(1,len(mutate_individual)):   #O(mutate_individual*prob) - O(n)\n",
        "            if np.random.random() < prob:\n",
        "                mutation = np.random.choice(pool[1])\n",
        "                mutate_individual = mutate_individual[0:j] + [mutation] + mutate_individual[j+1:] # +1 permite omitir el gen antiguo por el mutado\n",
        "        individuals[i] = mutate_individual\n",
        "\n",
        "#define el rango en el cual los individuos pueden reproducirse \n",
        "#aquellos individuos dentro de este rango (floats entre 0 y 2) se eliminarán de la poblacion \n",
        "#Entradas: min-float entre 0 y 2, max-float entre 0 y 2, poblacion - lista de individuos\n",
        "def rangoBusqueda(min,max,poblacion):   #O(n)\n",
        "    for individuo in poblacion:\n",
        "        x = binary2decimal(individuo)/(2**longitud_gen/2)\n",
        "        if (x < min) or (x > max):\n",
        "            poblacion.remove(individuo)\n",
        "    return poblacion\n",
        "\n",
        "def errorPromedio(valorMaxFunc,poblacion):\n",
        "    sumatoria = 0 \n",
        "    for individuo in poblacion:\n",
        "        x = binary2decimal(individuo)/(2**longitud_gen/2)\n",
        "        y = fx(x)\n",
        "        \n",
        "        sumatoria = sumatoria + abs(valorMaxFunc - y)\n",
        "    error = sumatoria/len(poblacion)\n",
        "    return error\n",
        "\n",
        "\n",
        "\n",
        "def mejorIndividuo(poblacion):\n",
        "    imagenY = 0  \n",
        "    mejorIndividuo = list()\n",
        "    for individuo in poblacion:\n",
        "        x = binary2decimal(individuo)/(2**longitud_gen/2)\n",
        "        y = fx(x) \n",
        "        #el que tenga mayor f(x) es el mejor de cada gen :s\n",
        "        if imagenY < y:\n",
        "            imagenY = y\n",
        "            mejorIndividuo = individuo\n",
        "    \n",
        "    return mejorIndividuo, imagenY\n",
        "\n",
        "\n",
        "\n",
        "poblacion = []\n",
        "genetic_pool = [[0,1],[0,1]]\n",
        "longitud_gen = int(input(\"Ingrese la longitud del gen: \"))\n",
        "ind_size = longitud_gen\n",
        "tamano_poblacion = int(input(\"Ingrese el tamaño de la población: \"))\n",
        "p_mutacion = float(input(\"Ingrese la probabilidad de mutación: \"))\n",
        "cantidad_generaciones = int(input(\"Ingrese la cantidad de generaciones: \"))\n",
        "rango_busquedaMin = float(input(\"Ingrese el valor minimo para el rango de busqueda: (float entre 0 y 2) \"))\n",
        "rango_busquedaMax = float(input(\"Ingrese el valor maximo para el rango de busqueda: (float entre 0 y 2) \"))\n",
        "\n",
        "y_axis = []\n",
        "# x_axis=np.arange(0,rango_busqueda,0.02)\n",
        "x_axis=np.arange(0,2,0.02)\n",
        "\n",
        "for num in x_axis:\n",
        "    y_axis.append(fx(num))\n",
        "\n",
        "for i in range(tamano_poblacion):\n",
        "    individuo = list(np.random.choice(genetic_pool[0],longitud_gen))\n",
        "    poblacion.append(individuo)\n",
        "\n",
        "\n",
        "errorGeneracional = []\n",
        "mejores_individuos = []\n",
        "mejores_individuosGen = []\n",
        "for _ in range(cantidad_generaciones):\n",
        "    \n",
        "    fitness =[]\n",
        "\n",
        "    # Extraigo los valores de y para medir su éxito\n",
        "    for individuo in poblacion:\n",
        "        x = binary2decimal(individuo)/(2**longitud_gen/2)\n",
        "        y = fx(x)\n",
        "        fitness += [y]\n",
        "\n",
        "    # Convierto fitness en un vector para realizar operaciones más fácilmente\n",
        "    fitness = np.array(fitness)\n",
        "\n",
        "    # Divido todos los valores de y para la suma total y así obtener valores entre 0 y 1\n",
        "    fitness=fitness/fitness.sum()    \n",
        "\n",
        "    # Se reproducen los mejores individuos\n",
        "    offspring = []\n",
        "    \n",
        "    size_poblacion = len(poblacion)\n",
        "    for i in range(size_poblacion//2):\n",
        "        parents = np.random.choice(size_poblacion, 2, p=fitness)\n",
        "        cross_point = np.random.randint(ind_size)\n",
        "        offspring += [poblacion[parents[0]][:cross_point] + poblacion[parents[1]][cross_point:]]\n",
        "        offspring += [poblacion[parents[1]][:cross_point] + poblacion[parents[0]][cross_point:]]    \n",
        "\n",
        "    poblacion = offspring\n",
        "    \n",
        "    poblacion = rangoBusqueda(rango_busquedaMin,rango_busquedaMax,poblacion)\n",
        "    \n",
        "    # Mutacion\n",
        "    mutate(poblacion,p_mutacion,genetic_pool)\n",
        "\n",
        "    error = errorPromedio(2,poblacion)\n",
        "    errorGeneracional.append(error)\n",
        "    mejor_individuo = mejorIndividuo(poblacion)\n",
        "    mejores_individuos.append(mejor_individuo[1]) #almacenamiento de valores de cada uno de los mejores individuos \n",
        "    mejores_individuosGen.append(mejor_individuo[0]) #\n",
        "    \n",
        "\n",
        "\n",
        "# Display\n",
        "for individuo in poblacion:\n",
        "  x = binary2decimal(individuo)/(2**longitud_gen/2)\n",
        "  y = fx(x)\n",
        "  plt.plot(x,y,'x')\n",
        "plt.plot(x_axis,y_axis)\n"
      ],
      "metadata": {
        "colab": {
          "base_uri": "https://localhost:8080/",
          "height": 387
        },
        "id": "BHeeJHNJ9d5_",
        "outputId": "476c172e-db2f-449c-fb1f-dc1f8edb69d3"
      },
      "execution_count": null,
      "outputs": [
        {
          "name": "stdout",
          "output_type": "stream",
          "text": [
            "Ingrese la longitud del gen: 10\n",
            "Ingrese el tamaño de la población: 100\n",
            "Ingrese la probabilidad de mutación: 0.005\n",
            "Ingrese la cantidad de generaciones: 100\n",
            "Ingrese el valor minimo para el rango de busqueda: (float entre 0 y 2) 0.1\n",
            "Ingrese el valor maximo para el rango de busqueda: (float entre 0 y 2) 1.9\n"
          ]
        },
        {
          "output_type": "execute_result",
          "data": {
            "text/plain": [
              "[<matplotlib.lines.Line2D at 0x7f8e91b4b550>]"
            ]
          },
          "metadata": {},
          "execution_count": 14
        },
        {
          "output_type": "display_data",
          "data": {
            "text/plain": [
              "<Figure size 432x288 with 1 Axes>"
            ],
            "image/png": "[encoded data removed]"
          },
          "metadata": {
            "needs_background": "light"
          }
        }
      ]
    },
    {
      "cell_type": "markdown",
      "source": [
        "**Error poblacional vs Generacion**"
      ],
      "metadata": {
        "id": "x1gOLGFVx45s"
      }
    },
    {
      "cell_type": "code",
      "source": [
        "generacionesArray = list(np.arange(0,cantidad_generaciones,1))\n",
        "plt.plot(generacionesArray,errorGeneracional )"
      ],
      "metadata": {
        "colab": {
          "base_uri": "https://localhost:8080/",
          "height": 286
        },
        "id": "rqCeyhLV7LSI",
        "outputId": "1c8b37e7-ba8e-46eb-9b77-31f53cd41b3f"
      },
      "execution_count": null,
      "outputs": [
        {
          "output_type": "execute_result",
          "data": {
            "text/plain": [
              "[<matplotlib.lines.Line2D at 0x7f8e91ab7190>]"
            ]
          },
          "metadata": {},
          "execution_count": 15
        },
        {
          "output_type": "display_data",
          "data": {
            "text/plain": [
              "<Figure size 432x288 with 1 Axes>"
            ],
            "image/png": "[encoded data removed]"
          },
          "metadata": {
            "needs_background": "light"
          }
        }
      ]
    },
    {
      "cell_type": "markdown",
      "source": [
        "**Mejores individuos VS generación**"
      ],
      "metadata": {
        "id": "FtH0YUF8x45t"
      }
    },
    {
      "cell_type": "code",
      "source": [
        "generacionesArray = list(np.arange(0,cantidad_generaciones,1))\n",
        "# print(len(generacionesArray))\n",
        "# print(mejores_individuos)\n",
        "# plot\n",
        "fig, ax = plt.subplots()\n",
        "ax.scatter(generacionesArray, mejores_individuos, s=10 )\n",
        "# plt.plot(generacionesArray,mejores_individuos,'o')\n",
        "plt.show()"
      ],
      "metadata": {
        "colab": {
          "base_uri": "https://localhost:8080/",
          "height": 266
        },
        "outputId": "1ea53082-a558-495c-8f7f-7d9d2cd3fdf0",
        "id": "Ckg_hlhZx45t"
      },
      "execution_count": null,
      "outputs": [
        {
          "output_type": "display_data",
          "data": {
            "text/plain": [
              "<Figure size 432x288 with 1 Axes>"
            ],
            "image/png": "[encoded data removed]"
          },
          "metadata": {
            "needs_background": "light"
          }
        }
      ]
    },
    {
      "cell_type": "code",
      "source": [
        "np.where(fitness == fitness.max())"
      ],
      "metadata": {
        "id": "RPPBnqU5bOLT",
        "colab": {
          "base_uri": "https://localhost:8080/"
        },
        "outputId": "90b25f50-d6b8-4211-80c4-4b81793d91cd"
      },
      "execution_count": null,
      "outputs": [
        {
          "output_type": "execute_result",
          "data": {
            "text/plain": [
              "(array([ 0,  1,  2,  3,  5,  6,  7,  8,  9, 10, 11, 12, 13]),)"
            ]
          },
          "metadata": {},
          "execution_count": 18
        }
      ]
    },
    {
      "cell_type": "code",
      "source": [
        "binary2decimal(poblacion[np.where(fitness == fitness.max())[0][0]])"
      ],
      "metadata": {
        "id": "Huix923TbXcz",
        "colab": {
          "base_uri": "https://localhost:8080/"
        },
        "outputId": "7ab63c73-603d-41c8-f198-5108762d7ca9"
      },
      "execution_count": null,
      "outputs": [
        {
          "output_type": "execute_result",
          "data": {
            "text/plain": [
              "931"
            ]
          },
          "metadata": {},
          "execution_count": 19
        }
      ]
    },
    {
      "cell_type": "code",
      "source": [
        "print(poblacion[0])"
      ],
      "metadata": {
        "id": "2kmlORpMbc-j",
        "colab": {
          "base_uri": "https://localhost:8080/"
        },
        "outputId": "c763cbcf-4265-46ab-b6ff-71f637dc3401"
      },
      "execution_count": null,
      "outputs": [
        {
          "output_type": "stream",
          "name": "stdout",
          "text": [
            "[1, 1, 1, 0, 1, 0, 0, 0, 1, 1]\n"
          ]
        }
      ]
    },
    {
      "cell_type": "code",
      "source": [
        "fitness[0]"
      ],
      "metadata": {
        "id": "mORygq1rbgjr",
        "colab": {
          "base_uri": "https://localhost:8080/"
        },
        "outputId": "38743ab0-73fe-400f-a7a5-9cb01f9ba82b"
      },
      "execution_count": null,
      "outputs": [
        {
          "output_type": "execute_result",
          "data": {
            "text/plain": [
              "0.07210297263406358"
            ]
          },
          "metadata": {},
          "execution_count": 22
        }
      ]
    },
    {
      "cell_type": "markdown",
      "source": [
        "# **Analisis finales** "
      ],
      "metadata": {
        "id": "pxpcuJbdEOzJ"
      }
    },
    {
      "cell_type": "markdown",
      "source": [
        "**punto 5** \n",
        "\n",
        "*Sobre el uso de diferentes funciones:*\n",
        "\n",
        "\n",
        "*   Oscilantes:\n",
        "    \n",
        "    Para este caso se puede ver que existe para la generación 100 un grupo de segregación en uno de los picos más cercanos al máximo global. Pero la mayoría de individuos para este momento ya están practicamente sobre el 2.\n",
        "    \n",
        "    Para la gráfica que muestra el error generacional se puede ver que decrece rapidamente, pero en un punto entre la generación 10 y la 20 tiene un pequeño llano y luego baja subitamente para luego decrecer hasta el punto que vemos en el cual es prácticamente nulo el error.\n",
        "\n",
        "    Para finalizar, vemos que el mejor individuo de cada generación resulta siempre en aquel que tiene el valor más cercano al máximo y existen 3 puntos que no siguen esta norma. Esto debido probablemente a la mutación, ya que puede pasar que los individuos más bajos tuvieran un \"Golpe de suerte\" y lograran reproducirse, pero se ve como la segregación natural elimino rapidamente este fenómeno.\n",
        "*   Lineales:\n",
        "\n",
        "    En el caso de los lineales se ve que la segregación se concentró en dos puntos especificos. Ya que practicamente no existen individuos perceptibles fuera de los dos puntos visibles. Debido al rango de búsqueda, se puede ver que se establecieron los individuos cercanos al 1.9 pero jamás llegan a acercarse demasiado, pues esto signifcaria en sus genes la tendencia a crecer y moririan por salir del rango.\n",
        "\n",
        "    La gráfica de error muestra un descenso abismal desde las primeras generaciones y luego se baja el ritmo de decrecimiento pero nunca para. Esto puede suceder debido a que ya que no existen multiples máximos, el genoma no tiene tanta variabilidad para comprender cuando está cerca del máximo.\n",
        "\n",
        "    Lo que más sorprende es ver esa dispersión tan grande que ocurre en los mejores individuos, pues parece que, como se mencionó anteriormente, los individuos empezaron a segregarse a un punto en el que no crecieran lo suficiente como para salir del rango de búsqueda y por lo tanto, en vez de acercarse aun más al máximo que es el 2, tienden al 1.8, punto en el cual vimos que estaban segregados los individuos en la gráfica inicial de los lineales.\n",
        "*   Otros:\n",
        "\n",
        "    En esta sección dejamos el oscilante variado, pues este empieza a decrecer, por lo tanto sus máximos locales son cada vez menores y la función empieza a tender a 1,por lo que la segregación sucede en su primer pico. Podemos ver que para la generación 100 aún existe un \"llanero solitario\" que vaga por el decrecimiento del máximo global, pero este se va a terminar eliminando y segregando junto con los demás individuos.\n",
        "\n",
        "    El error de esta función es muy similar al caso de los lineales, puesto que al haver un máximo tan claro, no tiene problemas de segregación tan marcados como con la oscilante \"común\". Se puede ver el decrecimiento fuerte al inicio y un menor decrecimiento a lo largo de las generaciones.\n",
        "\n",
        "    Como último, se puede ver que los mejores individuos si son muy similares a lo visto en los osciladores comunes, por lo que podriamos decir que esta función actúa como un híbrido entre ambos tipos.\n",
        "\n",
        "\n"
      ],
      "metadata": {
        "id": "dIq9uvJ4Ebrm"
      }
    },
    {
      "cell_type": "markdown",
      "source": [
        "**Punto 6**\n",
        "\n",
        "Para este punto podemos hablar que para el caso del *espacio*, lo que más afecta **es el largo del individuo y la población de los mismos**, debido a que para nuestro algoritmo la generación contiene un número determinado de individuos que una vez que se realiza el fitness vuelven a poblar por medio de la reproducción. Y debido a esto, la cantidad de individuos se mantiene siempre constante, pero se generen y borren constantemente durante la simulacion.\n",
        "\n",
        "En el caso de la longitud de cada individuo, como se menciono anteriormente, estos van a poblar con un determinado número todas las generaciones y entre más largo sea cada individuo, más información debe contener cada generación y es mayor la cantidad de información que debe leer, producir y recibir durante la simulación.\n",
        "\n",
        "La cantidad de generaciones es otro punto que afecta a la memoria principalmente, pues para realizar el almacenamiento se necesita memoria y si esta recibe la información de demasiadas generaciones puede colapsar. Aunque para alcanzar este punto serían necesarias demasiadas iteraciones de generaciones para lograr acaparar todo el espacio disponible.\n",
        "\n",
        "Lo que si puede verse bastante afectado debido a la **cantidad de generaciones** es el *tiempo de ejecución*, puesto que debido a que cada generación se puede tomar como una iteración, a mayor cantidad de estas corresponde un mayor tiempo en la ejecución completa.\n",
        "\n",
        "De nuevo, podemos tomar los pequeños pasos dentro de cada iteración como lo sería la lectura de la población individuo por individuo o la segregación que se realiza con estos que corresponde a más ciclos, para notar que la longitud y cantidad de individuos también afecta al tiempo de ejecución pero como una consecuencia de la contante iteracion de las generaciones asignadas.\n",
        "\n",
        "\n",
        "\n",
        "\n"
      ],
      "metadata": {
        "id": "h5D4zsZgFt6P"
      }
    },
    {
      "cell_type": "markdown",
      "source": [
        "**Punto 7**\n",
        "\n",
        "*¿Qué parametro es el más importante para acelerar la convergencia de la busqueda?*\n",
        "\n",
        "Luego de ejecutar varias pruebas, nos dimos cuenta de que existen dos parametros que nos pueden llevar a una convergencia más exacta, sin embargo uno de ellos nos permite acelerar este proceso. Hablo de la cantidad de generaciones y la cantidad de genes.\n",
        "\n",
        "\n",
        "En el caso de la cantidad de generaciones, al iterar e iterar lo que nos va a permitir este proceso es la continuación de la reproducción la cual está parametrizada para tomar los individuos cuya imagen es más grande (f(x)) como los más aptos para reproducirse. Sin embargo este proceso es un proceso cuya efectividad es directamente proporcional al número de ejecuciones, es decir, requiere más tiempo de ejecución para llevarnos a una mejor respuesta. \n",
        "\n",
        "Por otro lado, la cantidad de genomas es un parametro que a pesar de que al aumentarse tiene un costo en memoria, luego de varias pruebas se demostró que el aumentar este parametro aumenta la eficiencia del algoritmo. Ello demuestra que el hecho de tener individuos con mayores genes se aumenta la probabilidad de que estos puedan adaptarse mejor y más rapidamente.  \n",
        "\n",
        "\n"
      ],
      "metadata": {
        "id": "WznvDIOsF0gT"
      }
    }
  ]
}